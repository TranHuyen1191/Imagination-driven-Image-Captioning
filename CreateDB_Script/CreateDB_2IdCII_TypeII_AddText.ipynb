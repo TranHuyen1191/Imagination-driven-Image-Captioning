{
 "cells": [
  {
   "cell_type": "code",
   "execution_count": 1,
   "metadata": {},
   "outputs": [],
   "source": [
    "import torch\n",
    "import pandas as pd\n",
    "import os.path as osp\n",
    "import numpy as np\n",
    "from ast import literal_eval\n",
    "from PIL import Image\n",
    "from torch.utils.data import Dataset, DataLoader\n",
    "from torchvision.transforms import ToTensor,Compose\n",
    "import pdb\n",
    "import clip "
   ]
  },
  {
   "cell_type": "code",
   "execution_count": 2,
   "metadata": {
    "scrolled": true
   },
   "outputs": [
    {
     "name": "stdout",
     "output_type": "stream",
     "text": [
      "Number of caption sets in the test set: 15884\n"
     ]
    }
   ],
   "source": [
    "df_full = pd.read_csv(f'../Dataset/ArtEmis/ArtEmis_IdC/ArtEmis_IdCII.csv')\n",
    "df = df_full[df_full.split=='test'].copy()\n",
    "df.reset_index(drop=True,inplace=True)\n",
    "print('Number of caption sets in the test set:', len(df))\n",
    "df['captSet_CLIP_tokens'] = df['captSet_CLIP_tokens'].apply(literal_eval)\n",
    "# Image features created from raw images \n",
    "# Refer to https://github.com/ChenRocks/BUTD-UNITER-NLVR2 or https://github.com/MILVLG/bottom-up-attention.pytorch\n",
    "imgFeatDir = '../Dataset/ArtEmis/ArtEmis_IdC/Images/TestImageFeat_FasterRCNN/' \n",
    "df['imgfeat_file'] = [osp.join(imgFeatDir, row.art_style,  row.painting + '.npz') for _,row in df.iterrows()] \n",
    "## Convert captSet_CLIP_tokens to captions in text\n",
    "from clip.simple_tokenizer import SimpleTokenizer as _Tokenizer\n",
    "_tokenizer = _Tokenizer()\n",
    "captSet_text = []\n",
    "for _,row in df.iterrows():\n",
    "    captSet_CLIP_tokens = row['captSet_CLIP_tokens']\n",
    "    captSet_temp = []\n",
    "    for capt in captSet_CLIP_tokens:\n",
    "        captSet_temp.append(_tokenizer.decode_excludeSoSEoS(capt))\n",
    "    captSet_text.append(captSet_temp)\n",
    "df['captSet_text'] = captSet_text\n",
    "df.reset_index(drop=True,inplace=True)\n",
    "df.to_csv( '../Dataset/ArtEmis/ArtEmis_IdC/ArtEmis_TestIdCII_addText.csv', index=False)"
   ]
  },
  {
   "cell_type": "code",
   "execution_count": 2,
   "metadata": {},
   "outputs": [
    {
     "name": "stdout",
     "output_type": "stream",
     "text": [
      "Number of caption sets in the test set: 1160\n"
     ]
    }
   ],
   "source": [
    "df = pd.read_csv(f'../Dataset/VizWiz/VizWiz_IdCII.csv')\n",
    "print('Number of caption sets in the test set:', len(df))\n",
    "df['captSet_CLIP_tokens'] = df['captSet_CLIP_tokens'].apply(literal_eval)\n",
    "# Image features created from raw images \n",
    "# Refer to https://github.com/ChenRocks/BUTD-UNITER-NLVR2 or https://github.com/MILVLG/bottom-up-attention.pytorch\n",
    "imgFeatDir = '../Dataset/VizWiz/Images/ImageFeat_FasterRCNN/' \n",
    "df['imgfeat_file'] = [osp.join(imgFeatDir, row.image_id + '.npz') for _,row in df.iterrows()] \n",
    "## Convert captSet_CLIP_tokens to captions in text\n",
    "from clip.simple_tokenizer import SimpleTokenizer as _Tokenizer\n",
    "_tokenizer = _Tokenizer()\n",
    "captSet_text = []\n",
    "for _,row in df.iterrows():\n",
    "    captSet_CLIP_tokens = row['captSet_CLIP_tokens']\n",
    "    captSet_temp = []\n",
    "    for capt in captSet_CLIP_tokens:\n",
    "        captSet_temp.append(_tokenizer.decode_excludeSoSEoS(capt))\n",
    "    captSet_text.append(captSet_temp)\n",
    "df['captSet_text'] = captSet_text\n",
    "df.reset_index(drop=True,inplace=True)\n",
    "df.to_csv( '../Dataset/VizWiz/VizWiz_IdCII_addText.csv', index=False)"
   ]
  },
  {
   "cell_type": "code",
   "execution_count": 2,
   "metadata": {},
   "outputs": [
    {
     "name": "stdout",
     "output_type": "stream",
     "text": [
      "Number of caption sets in the test set: 595\n"
     ]
    }
   ],
   "source": [
    "df = pd.read_csv(f'../Dataset/Flickr30K/Flickr30K_IdCII.csv')\n",
    "print('Number of caption sets in the test set:', len(df))\n",
    "df['captSet_CLIP_tokens'] = df['captSet_CLIP_tokens'].apply(literal_eval)\n",
    "# Image features created from raw images \n",
    "# Refer to https://github.com/ChenRocks/BUTD-UNITER-NLVR2 or https://github.com/MILVLG/bottom-up-attention.pytorch\n",
    "imgFeatDir = '../Dataset/Flickr30K/Images/ImageFeat_FasterRCNN/' \n",
    "df['imgfeat_file'] = [osp.join(imgFeatDir, str(row.image_id) + '.npz') for _,row in df.iterrows()] \n",
    "## Convert captSet_CLIP_tokens to captions in text\n",
    "from clip.simple_tokenizer import SimpleTokenizer as _Tokenizer\n",
    "_tokenizer = _Tokenizer()\n",
    "captSet_text = []\n",
    "for _,row in df.iterrows():\n",
    "    captSet_CLIP_tokens = row['captSet_CLIP_tokens']\n",
    "    captSet_temp = []\n",
    "    for capt in captSet_CLIP_tokens:\n",
    "        captSet_temp.append(_tokenizer.decode_excludeSoSEoS(capt))\n",
    "    captSet_text.append(captSet_temp)\n",
    "df['captSet_text'] = captSet_text\n",
    "df.reset_index(drop=True,inplace=True)\n",
    "df.to_csv( '../Dataset/Flickr30K/Flickr30K_IdCII_addText.csv', index=False)"
   ]
  },
  {
   "cell_type": "code",
   "execution_count": 2,
   "metadata": {},
   "outputs": [
    {
     "name": "stdout",
     "output_type": "stream",
     "text": [
      "Number of caption sets in the test set: 1699\n"
     ]
    }
   ],
   "source": [
    "df = pd.read_csv(f'../Dataset/COCO/COCO_IdCII.csv')\n",
    "print('Number of caption sets in the test set:', len(df))\n",
    "df['captSet_CLIP_tokens'] = df['captSet_CLIP_tokens'].apply(literal_eval)\n",
    "# Image features created from raw images \n",
    "# Refer to https://github.com/ChenRocks/BUTD-UNITER-NLVR2 or https://github.com/MILVLG/bottom-up-attention.pytorch\n",
    "imgFeatDir = '../Dataset/COCO/Images/ImageFeat_FasterRCNN/' \n",
    "df['imgfeat_file'] = [osp.join(imgFeatDir, row.img_files[:-4] + '.npz') for _,row in df.iterrows()] \n",
    "## Convert captSet_CLIP_tokens to captions in text\n",
    "from clip.simple_tokenizer import SimpleTokenizer as _Tokenizer\n",
    "_tokenizer = _Tokenizer()\n",
    "captSet_text = []\n",
    "for _,row in df.iterrows():\n",
    "    captSet_CLIP_tokens = row['captSet_CLIP_tokens']\n",
    "    captSet_temp = []\n",
    "    for capt in captSet_CLIP_tokens:\n",
    "        captSet_temp.append(_tokenizer.decode_excludeSoSEoS(capt))\n",
    "    captSet_text.append(captSet_temp)\n",
    "df['captSet_text'] = captSet_text\n",
    "df.reset_index(drop=True,inplace=True)\n",
    "df.to_csv( '../Dataset/COCO/COCO_IdCII_addText.csv', index=False)"
   ]
  },
  {
   "cell_type": "code",
   "execution_count": null,
   "metadata": {},
   "outputs": [],
   "source": []
  }
 ],
 "metadata": {
  "kernelspec": {
   "display_name": "Python 3 (ipykernel)",
   "language": "python",
   "name": "python3"
  },
  "language_info": {
   "codemirror_mode": {
    "name": "ipython",
    "version": 3
   },
   "file_extension": ".py",
   "mimetype": "text/x-python",
   "name": "python",
   "nbconvert_exporter": "python",
   "pygments_lexer": "ipython3",
   "version": "3.6.10"
  }
 },
 "nbformat": 4,
 "nbformat_minor": 2
}
