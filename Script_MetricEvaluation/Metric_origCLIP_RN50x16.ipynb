{
 "cells": [
  {
   "cell_type": "code",
   "execution_count": 1,
   "metadata": {},
   "outputs": [],
   "source": [
    "import torch\n",
    "import pandas as pd\n",
    "import os.path as osp\n",
    "import numpy as np\n",
    "from ast import literal_eval\n",
    "from PIL import Image\n",
    "from torch.utils.data import Dataset, DataLoader\n",
    "import pdb\n",
    "import clip \n",
    "from torchvision.transforms import Compose, Resize, CenterCrop, ToTensor, Normalize\n",
    "try:\n",
    "    from torchvision.transforms import InterpolationMode\n",
    "    BICUBIC = InterpolationMode.BICUBIC\n",
    "except ImportError:\n",
    "    BICUBIC = Image.BICUBIC\n",
    "    "
   ]
  },
  {
   "cell_type": "code",
   "execution_count": 2,
   "metadata": {},
   "outputs": [
    {
     "name": "stdout",
     "output_type": "stream",
     "text": [
      "Number of caption sets in the test set: 1699\n"
     ]
    }
   ],
   "source": [
    "## Prepare the  dataset (merge it with the emotion-histograms.)\n",
    "datasetname = 'COCO' #ArtEmis, Flickr30K,  VizWiz, COCO\n",
    "\n",
    "if datasetname == 'ArtEmis':\n",
    "    datafile = f'../Dataset/{datasetname}/{datasetname}_IdC/{datasetname}_IdCII_3ErrType.csv'\n",
    "    img_dir = f\"../Dataset/{datasetname}/{datasetname}_IdC/Images/rawImages\"\n",
    "    df = pd.read_csv(datafile)\n",
    "    df = df[df.split=='test']\n",
    "else:\n",
    "    datafile = f'../Dataset/{datasetname}/{datasetname}_IdCII_3ErrType.csv'\n",
    "    img_dir = f\"../Dataset/{datasetname}/Images/rawImages\"\n",
    "    df = pd.read_csv(datafile)\n",
    "df.reset_index(drop=True,inplace=True)\n",
    "print('Number of caption sets in the test set:', len(df))\n",
    "df['captSet_CLIP_tokens'] = df['captSet_CLIP_tokens'].apply(literal_eval)\n",
    "df.img_files = [osp.join(img_dir,imgfile) for imgfile in df.img_files]"
   ]
  },
  {
   "cell_type": "code",
   "execution_count": 3,
   "metadata": {
    "scrolled": true
   },
   "outputs": [],
   "source": [
    "device = \"cuda\" if torch.cuda.is_available() else \"cpu\"\n",
    "CLIP_name = 'RN50x16'\n",
    "CLIPmodel,CLIPtransform,CLIPsettings = clip.load(CLIP_name,device, jit=False)\n",
    "embed_dim,image_resolution, vision_layers, vision_width, vision_patch_size,context_length_CLIP, vocab_size_CLIP, transformer_width, transformer_heads, transformer_layers = CLIPsettings"
   ]
  },
  {
   "cell_type": "code",
   "execution_count": 4,
   "metadata": {},
   "outputs": [],
   "source": [
    "def preprocess_dataset(df,img_dim):\n",
    "    img_transform = Compose([ \n",
    "                        Resize(image_resolution, interpolation=BICUBIC),\n",
    "                        CenterCrop(image_resolution),\n",
    "                        lambda image: image.convert(\"RGB\"),\n",
    "                        ToTensor(),\n",
    "                        Normalize((0.48145466, 0.4578275, 0.40821073), (0.26862954, 0.26130258, 0.27577711)),\n",
    "                    ])\n",
    "    dataset = Dataset(df.img_files, df.captSet_CLIP_tokens,img_transform=img_transform)\n",
    "    return dataset\n",
    "class Dataset(Dataset):\n",
    "    def __init__(self, image_files,captSets,img_transform=None):\n",
    "        super().__init__()\n",
    "        self.image_files = image_files\n",
    "        self.captSets = captSets\n",
    "        self.img_transform = img_transform\n",
    "\n",
    "    def __getitem__(self, index):\n",
    "        captSet = np.array(self.captSets[index]).astype(dtype=np.long)\n",
    "        if self.image_files is not None:\n",
    "            img = Image.open(self.image_files[index])\n",
    "\n",
    "            if img.mode is not 'RGB':\n",
    "                img = img.convert('RGB')\n",
    "\n",
    "            if self.img_transform is not None:\n",
    "                img = self.img_transform(img)\n",
    "        else:\n",
    "            img = []\n",
    "        item = {'image': img, 'captSet': captSet, 'index': index}\n",
    "        return item\n",
    "\n",
    "    def __len__(self):\n",
    "        return len(self.captSets)\n"
   ]
  },
  {
   "cell_type": "code",
   "execution_count": 5,
   "metadata": {
    "scrolled": true
   },
   "outputs": [
    {
     "name": "stdout",
     "output_type": "stream",
     "text": [
      "1699\n"
     ]
    }
   ],
   "source": [
    "# Extracting caption scores\n",
    "dataset = preprocess_dataset(df,image_resolution)\n",
    "targets = []\n",
    "similarities = []\n",
    "no_imgs =len(dataset)\n",
    "print(no_imgs)\n",
    "\n",
    "for i in range(no_imgs):\n",
    "    data = dataset[i]   \n",
    "    image_inputs = torch.unsqueeze(data['image'], 0)\n",
    "    text_inputs  = torch.LongTensor(data['captSet']) \n",
    "    # Calculate features\n",
    "    with torch.no_grad():\n",
    "        image_features = CLIPmodel.encode_image(image_inputs.to(device))\n",
    "        text_features = CLIPmodel.encode_text(text_inputs.to(torch.long).to(device))\n",
    "\n",
    "    image_features /= image_features.norm(dim=-1, keepdim=True) #torch.Size([1, 512])\n",
    "    text_features /= text_features.norm(dim=-1, keepdim=True) #torch.Size([101, 512])\n",
    "    similarity = image_features @ text_features.T\n",
    "    similarities.append(similarity.squeeze(0).tolist()) #torch.Size([1, 101])"
   ]
  },
  {
   "cell_type": "code",
   "execution_count": 6,
   "metadata": {},
   "outputs": [
    {
     "name": "stdout",
     "output_type": "stream",
     "text": [
      "Dataset: COCO , Number of caption sets: 1699\n",
      "Accuracy at errType=1:1641/1699= 0.9658622719246616\n",
      "Accuracy at errType=2:1510/1699= 0.8887580929958799\n",
      "Accuracy at errType=3:1334/1699= 0.785167745732784\n",
      "Accuracy for all types:4485/5097= 0.8799293702177752\n"
     ]
    }
   ],
   "source": [
    "import numpy as np\n",
    "no_errType = 3\n",
    "cnt_corr_all = 0\n",
    "cnt_incorr_all = 0\n",
    "print(\"Dataset:\",datasetname,\", Number of caption sets:\",len(similarities))\n",
    "for errType in range(1,no_errType+1):\n",
    "    cnt_corr = 0\n",
    "    cnt_incorr = 0\n",
    "    for sim in similarities:\n",
    "        if sim[0] > sim[errType]:\n",
    "            cnt_corr +=1\n",
    "            cnt_corr_all +=1\n",
    "        else:\n",
    "            cnt_incorr +=1\n",
    "            cnt_incorr_all +=1\n",
    "    print(f\"Accuracy at errType={errType}:{cnt_corr}/{cnt_corr+cnt_incorr}=\",cnt_corr/(cnt_corr+cnt_incorr))\n",
    "\n",
    "print(f\"Accuracy for all types:{cnt_corr_all}/{cnt_corr_all+cnt_incorr_all}=\",cnt_corr_all/(cnt_corr_all+cnt_incorr_all))"
   ]
  },
  {
   "cell_type": "code",
   "execution_count": 7,
   "metadata": {},
   "outputs": [
    {
     "ename": "SyntaxError",
     "evalue": "invalid syntax (<ipython-input-7-5920281a0d18>, line 1)",
     "output_type": "error",
     "traceback": [
      "\u001b[0;36m  File \u001b[0;32m\"<ipython-input-7-5920281a0d18>\"\u001b[0;36m, line \u001b[0;32m1\u001b[0m\n\u001b[0;31m    Dataset: COCO ,Number of images: 1699\u001b[0m\n\u001b[0m                  ^\u001b[0m\n\u001b[0;31mSyntaxError\u001b[0m\u001b[0;31m:\u001b[0m invalid syntax\n"
     ]
    }
   ],
   "source": [
    "Dataset: COCO , Number of caption sets: 1699\n",
    "Accuracy at errType=1:1641/1699= 0.9658622719246616\n",
    "Accuracy at errType=2:1510/1699= 0.8887580929958799\n",
    "Accuracy at errType=3:1334/1699= 0.785167745732784\n",
    "Accuracy for all types:4485/5097= 0.8799293702177752\n",
    "\n",
    "Dataset: VizWiz , Number of caption sets: 1160\n",
    "Accuracy at errType=1:1005/1160= 0.8663793103448276\n",
    "Accuracy at errType=2:1005/1160= 0.8663793103448276\n",
    "Accuracy at errType=3:817/1160= 0.7043103448275863\n",
    "Accuracy for all types:2827/3480= 0.8123563218390805\n",
    "\n",
    "Dataset: Flickr30K , Number of caption sets: 595\n",
    "Accuracy at errType=1:560/595= 0.9411764705882353\n",
    "Accuracy at errType=2:522/595= 0.8773109243697479\n",
    "Accuracy at errType=3:420/595= 0.7058823529411765\n",
    "Accuracy for all types:1502/1785= 0.8414565826330532\n",
    "\n",
    "Dataset: ArtEmis , Number of caption sets: 15884\n",
    "Accuracy at errType=1:11739/15884= 0.7390455804583228\n",
    "Accuracy at errType=2:12090/15884= 0.7611432888441199\n",
    "Accuracy at errType=3:9195/15884= 0.5788844119869051\n",
    "Accuracy for all types:33024/47652= 0.6930244270964493"
   ]
  }
 ],
 "metadata": {
  "kernelspec": {
   "display_name": "Python 3 (ipykernel)",
   "language": "python",
   "name": "python3"
  },
  "language_info": {
   "codemirror_mode": {
    "name": "ipython",
    "version": 3
   },
   "file_extension": ".py",
   "mimetype": "text/x-python",
   "name": "python",
   "nbconvert_exporter": "python",
   "pygments_lexer": "ipython3",
   "version": "3.6.10"
  }
 },
 "nbformat": 4,
 "nbformat_minor": 2
}
